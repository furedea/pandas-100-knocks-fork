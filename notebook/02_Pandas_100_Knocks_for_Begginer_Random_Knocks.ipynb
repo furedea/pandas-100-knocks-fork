{
 "cells": [
  {
   "cell_type": "markdown",
   "metadata": {},
   "source": [
    "# 【ランダムノック】初学者向けPandas100本ノックver1.0.7\n",
    "##### 1～89までの問題をランダムに表示\n",
    "##### Shift + Enter で各セルのコードが実行されます\n",
    "・print(ans[ 問題番号 ]) で回答コード例を表示  \n",
    "・Python3エンジニア認定データ分析試験にも沿った問題内容   \n",
    "・Pandasの各メソッドの説明は以下のサイトが分かりやすいです  \n",
    " 　[note.nkmk.me](https://note.nkmk.me/pandas/)  \n",
    "・\"Data for Titanic passengers\" from [VANDERBILT UNIVERSITY](https://biostat.app.vumc.org/wiki/Main/DataSets)  \n",
    "  \n",
    "**本コンテンツ作成時のpandasのバージョンは1.1.0**\n",
    "  \n",
    "作成日:2020年9月24日  \n",
    "最終更新日:203年1月16日  \n",
    "再配布・改編不可  \n",
    "作成者：[kunishou](https://qiita.com/kunishou)"
   ]
  },
  {
   "cell_type": "code",
   "execution_count": null,
   "metadata": {},
   "outputs": [],
   "source": [
    "# Shift + Enterで題材データ、回答コードを読み込んで下さい\n",
    "\n",
    "import pandas as pd\n",
    "import glob\n",
    "import random\n",
    "\n",
    "#題材データをdfに読み込み(タイタニック号の乗客データ、テストの点数データ 等)\n",
    "def initialize1():\n",
    "    df = pd.read_csv('../input/titanic3.csv')\n",
    "    return df\n",
    "\n",
    "def initialize2():\n",
    "    df = pd.read_csv('../input/data1.csv')\n",
    "    return df\n",
    "\n",
    "df = initialize1()\n",
    "df2 = initialize2()\n",
    "df3 = pd.read_csv('../input/data1_2.csv')\n",
    "df4 = pd.read_csv('../input/data1_3.csv')\n",
    "df5 = pd.read_csv('../input/data2.csv',encoding='cp932')\n",
    "\n",
    "#問題文をquesリストに格納\n",
    "path = sorted(glob.glob('../input/q_' + '*.txt'))\n",
    "\n",
    "ques = []\n",
    "\n",
    "for _ in range(len(path)):\n",
    "    with open(path[_], 'r',encoding='utf-8') as f:\n",
    "        ques.append(f.read())\n",
    "\n",
    "#回答コードをansリストに格納\n",
    "path2 = sorted(glob.glob('../input/a_' + '*.txt'))\n",
    "\n",
    "ans = []\n",
    "\n",
    "for _ in range(len(path)):\n",
    "    with open(path2[_], 'r',encoding='utf-8') as f:\n",
    "        ans.append(f.read())\n",
    "\n",
    "print(ques[0])\n",
    "print(ans[0])"
   ]
  },
  {
   "cell_type": "markdown",
   "metadata": {},
   "source": [
    "# Random Knocks"
   ]
  },
  {
   "cell_type": "code",
   "execution_count": null,
   "metadata": {},
   "outputs": [],
   "source": [
    "#問題をランダムに表示\n",
    "print(random.choice(ques[1:]))"
   ]
  },
  {
   "cell_type": "code",
   "execution_count": null,
   "metadata": {},
   "outputs": [],
   "source": [
    "df = initialize1() # 初期化\n",
    "df2 = initialize2() # 初期化\n",
    "# 回答をここに記述\n",
    "\n",
    "\n",
    "\n"
   ]
  },
  {
   "cell_type": "code",
   "execution_count": null,
   "metadata": {},
   "outputs": [],
   "source": [
    "#print(ans[]) # 回答表示(ans[]の[]内に問題番号を記入)"
   ]
  },
  {
   "cell_type": "markdown",
   "metadata": {},
   "source": [
    "各セルのoutput表示をすべてクリアにしたい場合は、ツールバーの  \n",
    "「Kernel」→「Restart & Clear Output」を実行して下さい。"
   ]
  }
 ],
 "metadata": {
  "kernelspec": {
   "display_name": "Python 3",
   "language": "python",
   "name": "python3"
  },
  "language_info": {
   "codemirror_mode": {
    "name": "ipython",
    "version": 3
   },
   "file_extension": ".py",
   "mimetype": "text/x-python",
   "name": "python",
   "nbconvert_exporter": "python",
   "pygments_lexer": "ipython3",
   "version": "3.7.6"
  }
 },
 "nbformat": 4,
 "nbformat_minor": 4
}
