{
 "cells": [
  {
   "cell_type": "markdown",
   "metadata": {},
   "source": [
    "# タイタニック号乗客の生存予測ver1.0.7\n",
    "##### 90～100を通しで実行する場合のサンプルコード\n",
    "##### Shift + Enter で各セルのコードが実行されます\n",
    "・print(ans[ 問題番号 ]) で回答コード例を表示  \n",
    "・Python3エンジニア認定データ分析試験にも沿った問題内容   \n",
    "・Pandasの各メソッドの説明は以下のサイトが分かりやすいです  \n",
    " 　[note.nkmk.me](https://note.nkmk.me/pandas/)  \n",
    "・\"Data for Titanic passengers\" from [VANDERBILT UNIVERSITY](https://biostat.app.vumc.org/wiki/Main/DataSets)  \n",
    "  \n",
    "**本コンテンツ作成時のpandasのバージョンは1.1.0**\n",
    "  \n",
    "作成日:2020年9月24日  \n",
    "再配布・改編不可  \n",
    "作成者：[kunishou](https://qiita.com/kunishou)"
   ]
  },
  {
   "cell_type": "code",
   "execution_count": null,
   "metadata": {},
   "outputs": [],
   "source": [
    "import pandas as pd\n",
    "\n",
    "# データの読み込み\n",
    "df = pd.read_csv('../input/titanic3.csv')\n",
    "\n",
    "df_copy = df.copy()\n",
    "\n",
    "# ラベルエンコーディング\n",
    "from sklearn.preprocessing import LabelEncoder\n",
    "\n",
    "le = LabelEncoder() #ラベルエンコーダのインスタンスを作成\n",
    "\n",
    "df_copy['sex'] = le.fit_transform(df_copy['sex']) #エンコーディング\n",
    "df_copy['embarked'] = le.fit_transform(df_copy['embarked'].astype(str))\n",
    "\n",
    "# 欠損値補完\n",
    "df_copy['age'] = df_copy['age'].fillna(df_copy['age'].median()) #欠損値にageの平均値で補完\n",
    "df_copy['fare'] = df_copy['fare'].fillna(df_copy['fare'].median()) #欠損値にfareの平均値で補完\n",
    "\n",
    "# 不要行の削除\n",
    "df_copy = df_copy.drop(['name', 'ticket', 'cabin', 'boat', 'body', 'home.dest'],axis=1)\n",
    "\n",
    "# ndarray形式への変換\n",
    "features = df_copy[['pclass','age','sex','fare','embarked']].values\n",
    "target = df_copy['survived'].values\n",
    "\n",
    "# 学習データとテストデータに分割\n",
    "from sklearn.model_selection import  train_test_split\n",
    "\n",
    "(features , test_X , target , test_y) = train_test_split(features, target , test_size = 0.3 , random_state = 0)\n",
    "\n",
    "# 学習\n",
    "from sklearn.ensemble import RandomForestClassifier\n",
    "\n",
    "model = RandomForestClassifier(n_estimators=100,random_state=0) # ランダムフォレストのインスタンスを作成\n",
    "\n",
    "model.fit(features,target) # 学習の実行\n",
    "\n",
    "# 予測\n",
    "pred = model.predict(test_X)\n",
    "\n",
    "# 予測精度の確認\n",
    "from sklearn.metrics import accuracy_score\n",
    "\n",
    "print(accuracy_score(pred,test_y))\n",
    "\n",
    "# 重要度の表示\n",
    "importance = model.feature_importances_ \n",
    "\n",
    "print('Feature Importances:')\n",
    "for i, feat in enumerate(['pclass','age','sex','fare','embarked']):\n",
    "    print('\\t{0:20s} : {1:>.5f}'.format(feat, importance[i]))\n",
    "    \n",
    "# csvで出力\n",
    "df_pred = pd.DataFrame(pred)\n",
    "df_pred.to_csv('../output/submission.csv',header=None)"
   ]
  }
 ],
 "metadata": {
  "kernelspec": {
   "display_name": "Python 3",
   "language": "python",
   "name": "python3"
  },
  "language_info": {
   "codemirror_mode": {
    "name": "ipython",
    "version": 3
   },
   "file_extension": ".py",
   "mimetype": "text/x-python",
   "name": "python",
   "nbconvert_exporter": "python",
   "pygments_lexer": "ipython3",
   "version": "3.7.6"
  }
 },
 "nbformat": 4,
 "nbformat_minor": 4
}
